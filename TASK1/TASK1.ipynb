{
 "cells": [
  {
   "cell_type": "markdown",
   "id": "f4ccc939",
   "metadata": {},
   "source": [
    "22206207 Giacomo Govoni "
   ]
  },
  {
   "cell_type": "markdown",
   "id": "0776e9b7",
   "metadata": {},
   "source": [
    "# Machine Learning with Python Assignment 1"
   ]
  },
  {
   "cell_type": "code",
   "execution_count": 1,
   "id": "93246f85",
   "metadata": {},
   "outputs": [],
   "source": [
    "import matplotlib.pyplot as plt\n",
    "import pandas as pd\n",
    "import numpy as np\n",
    "from fractions import Fraction\n",
    "from IPython.display import display, Markdown, Latex\n",
    "from sklearn.model_selection import train_test_split\n",
    "from sklearn.naive_bayes import MultinomialNB, GaussianNB, BernoulliNB, CategoricalNB\n",
    "from sklearn.metrics import confusion_matrix \n",
    "from sklearn.preprocessing import OneHotEncoder, OrdinalEncoder\n",
    "from sklearn.metrics import accuracy_score\n",
    "import category_encoders as ce"
   ]
  },
  {
   "cell_type": "code",
   "execution_count": 2,
   "id": "f37248ad",
   "metadata": {},
   "outputs": [
    {
     "data": {
      "text/html": [
       "<div>\n",
       "<style scoped>\n",
       "    .dataframe tbody tr th:only-of-type {\n",
       "        vertical-align: middle;\n",
       "    }\n",
       "\n",
       "    .dataframe tbody tr th {\n",
       "        vertical-align: top;\n",
       "    }\n",
       "\n",
       "    .dataframe thead th {\n",
       "        text-align: right;\n",
       "    }\n",
       "</style>\n",
       "<table border=\"1\" class=\"dataframe\">\n",
       "  <thead>\n",
       "    <tr style=\"text-align: right;\">\n",
       "      <th></th>\n",
       "      <th>Class</th>\n",
       "      <th>age</th>\n",
       "      <th>menopause</th>\n",
       "      <th>tumor-size</th>\n",
       "      <th>inv-nodes</th>\n",
       "      <th>node-caps</th>\n",
       "      <th>deg-malig</th>\n",
       "      <th>breast</th>\n",
       "      <th>breast-quad</th>\n",
       "      <th>irradiat</th>\n",
       "    </tr>\n",
       "  </thead>\n",
       "  <tbody>\n",
       "    <tr>\n",
       "      <th>0</th>\n",
       "      <td>no-recurrence-events</td>\n",
       "      <td>30-39</td>\n",
       "      <td>premeno</td>\n",
       "      <td>30-34</td>\n",
       "      <td>0-2</td>\n",
       "      <td>no</td>\n",
       "      <td>3</td>\n",
       "      <td>left</td>\n",
       "      <td>left_low</td>\n",
       "      <td>no</td>\n",
       "    </tr>\n",
       "    <tr>\n",
       "      <th>1</th>\n",
       "      <td>no-recurrence-events</td>\n",
       "      <td>40-49</td>\n",
       "      <td>premeno</td>\n",
       "      <td>20-24</td>\n",
       "      <td>0-2</td>\n",
       "      <td>no</td>\n",
       "      <td>2</td>\n",
       "      <td>right</td>\n",
       "      <td>right_up</td>\n",
       "      <td>no</td>\n",
       "    </tr>\n",
       "    <tr>\n",
       "      <th>2</th>\n",
       "      <td>no-recurrence-events</td>\n",
       "      <td>40-49</td>\n",
       "      <td>premeno</td>\n",
       "      <td>20-24</td>\n",
       "      <td>0-2</td>\n",
       "      <td>no</td>\n",
       "      <td>2</td>\n",
       "      <td>left</td>\n",
       "      <td>left_low</td>\n",
       "      <td>no</td>\n",
       "    </tr>\n",
       "    <tr>\n",
       "      <th>3</th>\n",
       "      <td>no-recurrence-events</td>\n",
       "      <td>60-69</td>\n",
       "      <td>ge40</td>\n",
       "      <td>15-19</td>\n",
       "      <td>0-2</td>\n",
       "      <td>no</td>\n",
       "      <td>2</td>\n",
       "      <td>right</td>\n",
       "      <td>left_up</td>\n",
       "      <td>no</td>\n",
       "    </tr>\n",
       "    <tr>\n",
       "      <th>4</th>\n",
       "      <td>no-recurrence-events</td>\n",
       "      <td>40-49</td>\n",
       "      <td>premeno</td>\n",
       "      <td>0-4</td>\n",
       "      <td>0-2</td>\n",
       "      <td>no</td>\n",
       "      <td>2</td>\n",
       "      <td>right</td>\n",
       "      <td>right_low</td>\n",
       "      <td>no</td>\n",
       "    </tr>\n",
       "    <tr>\n",
       "      <th>...</th>\n",
       "      <td>...</td>\n",
       "      <td>...</td>\n",
       "      <td>...</td>\n",
       "      <td>...</td>\n",
       "      <td>...</td>\n",
       "      <td>...</td>\n",
       "      <td>...</td>\n",
       "      <td>...</td>\n",
       "      <td>...</td>\n",
       "      <td>...</td>\n",
       "    </tr>\n",
       "    <tr>\n",
       "      <th>281</th>\n",
       "      <td>recurrence-events</td>\n",
       "      <td>30-39</td>\n",
       "      <td>premeno</td>\n",
       "      <td>30-34</td>\n",
       "      <td>0-2</td>\n",
       "      <td>no</td>\n",
       "      <td>2</td>\n",
       "      <td>left</td>\n",
       "      <td>left_up</td>\n",
       "      <td>no</td>\n",
       "    </tr>\n",
       "    <tr>\n",
       "      <th>282</th>\n",
       "      <td>recurrence-events</td>\n",
       "      <td>30-39</td>\n",
       "      <td>premeno</td>\n",
       "      <td>20-24</td>\n",
       "      <td>0-2</td>\n",
       "      <td>no</td>\n",
       "      <td>3</td>\n",
       "      <td>left</td>\n",
       "      <td>left_up</td>\n",
       "      <td>yes</td>\n",
       "    </tr>\n",
       "    <tr>\n",
       "      <th>283</th>\n",
       "      <td>recurrence-events</td>\n",
       "      <td>60-69</td>\n",
       "      <td>ge40</td>\n",
       "      <td>20-24</td>\n",
       "      <td>0-2</td>\n",
       "      <td>no</td>\n",
       "      <td>1</td>\n",
       "      <td>right</td>\n",
       "      <td>left_up</td>\n",
       "      <td>no</td>\n",
       "    </tr>\n",
       "    <tr>\n",
       "      <th>284</th>\n",
       "      <td>recurrence-events</td>\n",
       "      <td>40-49</td>\n",
       "      <td>ge40</td>\n",
       "      <td>30-34</td>\n",
       "      <td>3-5</td>\n",
       "      <td>no</td>\n",
       "      <td>3</td>\n",
       "      <td>left</td>\n",
       "      <td>left_low</td>\n",
       "      <td>no</td>\n",
       "    </tr>\n",
       "    <tr>\n",
       "      <th>285</th>\n",
       "      <td>recurrence-events</td>\n",
       "      <td>50-59</td>\n",
       "      <td>ge40</td>\n",
       "      <td>30-34</td>\n",
       "      <td>3-5</td>\n",
       "      <td>no</td>\n",
       "      <td>3</td>\n",
       "      <td>left</td>\n",
       "      <td>left_low</td>\n",
       "      <td>no</td>\n",
       "    </tr>\n",
       "  </tbody>\n",
       "</table>\n",
       "<p>286 rows × 10 columns</p>\n",
       "</div>"
      ],
      "text/plain": [
       "                    Class    age menopause tumor-size inv-nodes node-caps  \\\n",
       "0    no-recurrence-events  30-39   premeno      30-34       0-2        no   \n",
       "1    no-recurrence-events  40-49   premeno      20-24       0-2        no   \n",
       "2    no-recurrence-events  40-49   premeno      20-24       0-2        no   \n",
       "3    no-recurrence-events  60-69      ge40      15-19       0-2        no   \n",
       "4    no-recurrence-events  40-49   premeno        0-4       0-2        no   \n",
       "..                    ...    ...       ...        ...       ...       ...   \n",
       "281     recurrence-events  30-39   premeno      30-34       0-2        no   \n",
       "282     recurrence-events  30-39   premeno      20-24       0-2        no   \n",
       "283     recurrence-events  60-69      ge40      20-24       0-2        no   \n",
       "284     recurrence-events  40-49      ge40      30-34       3-5        no   \n",
       "285     recurrence-events  50-59      ge40      30-34       3-5        no   \n",
       "\n",
       "     deg-malig breast breast-quad irradiat  \n",
       "0            3   left    left_low       no  \n",
       "1            2  right    right_up       no  \n",
       "2            2   left    left_low       no  \n",
       "3            2  right     left_up       no  \n",
       "4            2  right   right_low       no  \n",
       "..         ...    ...         ...      ...  \n",
       "281          2   left     left_up       no  \n",
       "282          3   left     left_up      yes  \n",
       "283          1  right     left_up       no  \n",
       "284          3   left    left_low       no  \n",
       "285          3   left    left_low       no  \n",
       "\n",
       "[286 rows x 10 columns]"
      ]
     },
     "execution_count": 2,
     "metadata": {},
     "output_type": "execute_result"
    }
   ],
   "source": [
    "breast_cancer = pd.read_csv('breast-cancer.csv')\n",
    "breast_cancer"
   ]
  },
  {
   "cell_type": "markdown",
   "id": "28ca2a40",
   "metadata": {},
   "source": [
    "## TASK 1"
   ]
  },
  {
   "cell_type": "code",
   "execution_count": 3,
   "id": "497bf7df",
   "metadata": {},
   "outputs": [],
   "source": [
    "# I set the number of trials and the first values for task 1\n",
    "trials = 200\n",
    "X_q1 = breast_cancer\n",
    "y_q1 = X_q1.pop('Class').values"
   ]
  },
  {
   "cell_type": "code",
   "execution_count": 4,
   "id": "b36e16b6",
   "metadata": {},
   "outputs": [],
   "source": [
    "# OneHot Encoder\n",
    "\n",
    "ohe_q1 = OneHotEncoder(sparse=False)\n",
    "X_OH_q1 = ohe_q1.fit_transform(breast_cancer)\n",
    "\n",
    "OHEaccur_q1 = []\n",
    "bnb_q1 = BernoulliNB()\n",
    "\n",
    "for i in range(trials):\n",
    "    X_train, X_test, y_train, y_test = train_test_split(X_OH_q1, y_q1, test_size=0.5, random_state=None)\n",
    "    y_pred = bnb_q1.fit(X_train, y_train).predict(X_test)\n",
    "    OHEaccur_q1.append(accuracy_score(y_test, y_pred))"
   ]
  },
  {
   "cell_type": "code",
   "execution_count": 5,
   "id": "a4364c81",
   "metadata": {},
   "outputs": [
    {
     "data": {
      "text/markdown": [
       "Before splitting with BERNOULLI NAIVE BAYES classifier the accuracy of using ONEHOT ENCODER encoding over `200` trials is 72.09%"
      ],
      "text/plain": [
       "<IPython.core.display.Markdown object>"
      ]
     },
     "metadata": {},
     "output_type": "display_data"
    }
   ],
   "source": [
    "display(Markdown(f'Before splitting with BERNOULLI NAIVE BAYES classifier the accuracy of using ONEHOT ENCODER encoding over `{trials}` trials is {(np.mean(OHEaccur_q1))*100:.2f}%'))"
   ]
  },
  {
   "cell_type": "code",
   "execution_count": 6,
   "id": "d4a859c3",
   "metadata": {},
   "outputs": [],
   "source": [
    "# Ordinal Encoder\n",
    "\n",
    "ord_encoder_q1 = OrdinalEncoder()\n",
    "X_OE_q1 = ord_encoder_q1.fit_transform(breast_cancer)\n",
    "\n",
    "catNB_q1 = CategoricalNB() \n",
    "OEaccur_q1 = []\n",
    "\n",
    "for i in range(trials):\n",
    "    X_train, X_test, y_train, y_test = train_test_split(X_OE_q1, y_q1, test_size=0.5, random_state=None)\n",
    "    try:\n",
    "        OE_y_pred = catNB_q1.fit(X_train, y_train).predict(X_test)\n",
    "        OEaccur_q1.append(accuracy_score(y_test, OE_y_pred))\n",
    "    except:\n",
    "        continue    "
   ]
  },
  {
   "cell_type": "code",
   "execution_count": 7,
   "id": "64ab7ad3",
   "metadata": {},
   "outputs": [
    {
     "data": {
      "text/markdown": [
       "Before splitting with CATEGORICAL NAIVE BAYES classifier the accuracy of using ORDINAL ENCODER encoding over `200` trials is 72.06%"
      ],
      "text/plain": [
       "<IPython.core.display.Markdown object>"
      ]
     },
     "metadata": {},
     "output_type": "display_data"
    }
   ],
   "source": [
    "display(Markdown(f'Before splitting with CATEGORICAL NAIVE BAYES classifier the accuracy of using ORDINAL ENCODER encoding over `{trials}` trials is {(np.mean(OEaccur_q1))*100:.2f}%'))"
   ]
  },
  {
   "cell_type": "markdown",
   "id": "cbc7b21f",
   "metadata": {},
   "source": [
    "## TASK 2"
   ]
  },
  {
   "cell_type": "code",
   "execution_count": 8,
   "id": "c7ace440",
   "metadata": {},
   "outputs": [],
   "source": [
    "breast_cancer = pd.read_csv('breast-cancer.csv')\n",
    "\n",
    "breast_cancer.loc[breast_cancer[\"Class\"] == \"no-recurrence-events\", \"Class\"] = 1.0\n",
    "breast_cancer.loc[breast_cancer[\"Class\"] == \"recurrence-events\", \"Class\"] = 0.0\n",
    "\n",
    "y_q2 = list(breast_cancer.pop('Class').values)\n",
    "X_q2 = breast_cancer\n",
    "cbe = ce.cat_boost.CatBoostEncoder(cols = X_q2.columns)"
   ]
  },
  {
   "cell_type": "code",
   "execution_count": null,
   "id": "f193b904",
   "metadata": {},
   "outputs": [],
   "source": [
    "gnb_q2 = GaussianNB()\n",
    "accur_q2 = []\n",
    "\n",
    "for i in range(trials):\n",
    "    cbe = ce.cat_boost.CatBoostEncoder(cols = X_q2.columns)\n",
    "    X2_cbe = cbe.fit_transform(X_q2,y_q2)\n",
    "    X_train, X_test, y_train, y_test = train_test_split(X2_cbe, y_q2, test_size=0.5)\n",
    "    y_dash = gnb_q2.fit(X_train, y_train).predict(X_test)\n",
    "    accur_q2.append(accuracy_score(y_test, y_dash))"
   ]
  },
  {
   "cell_type": "code",
   "execution_count": null,
   "id": "6ee606bc",
   "metadata": {},
   "outputs": [],
   "source": [
    "display(Markdown(f'Before splitting with GAUSSIAN NAIVE BAYES classifier the accuracy of using CATBOOST ENCODER encoding over `{trials}` trials is {(np.mean(accur_q2))*100:.2f}%'))"
   ]
  },
  {
   "cell_type": "markdown",
   "id": "bb267917",
   "metadata": {},
   "source": [
    "## TASK 3"
   ]
  },
  {
   "cell_type": "markdown",
   "id": "b5717dfd",
   "metadata": {},
   "source": [
    "### Now encoding after splitting "
   ]
  },
  {
   "cell_type": "code",
   "execution_count": null,
   "id": "200f2fd0",
   "metadata": {},
   "outputs": [],
   "source": [
    "# To store in an array the unique values in the date column of a particular dataframe\n",
    "\n",
    "def guv(df):\n",
    "    coll = list(df.columns)\n",
    "    categ = []\n",
    "    for col in coll:\n",
    "        categ.append(list((df[col].unique())))\n",
    "    \n",
    "    return categ"
   ]
  },
  {
   "cell_type": "code",
   "execution_count": null,
   "id": "ce52bd10",
   "metadata": {},
   "outputs": [],
   "source": [
    "# OneHotEncoder\n",
    "\n",
    "OHEaccur_q3 = []\n",
    "bnb_q3 = BernoulliNB()\n",
    "X_q3 = breast_cancer.astype(str)\n",
    "y_q3 = y_q1\n",
    "\n",
    "for i in range(trials):\n",
    "    X_train, X_test, y_train, y_test = train_test_split(X_q3, y_q3, test_size=0.5, random_state=None)\n",
    "    ohe_q3 = OneHotEncoder(sparse=False, categories=guv(X_q3))\n",
    "    OH_BC_q3_train = ohe_q3.fit_transform(X_train)\n",
    "    OH_BC_q3_test = ohe_q3.fit_transform(X_test)\n",
    "    X_OH_q3 = OH_BC_q3_train\n",
    "    y_pred = bnb_q3.fit(OH_BC_q3_train, y_train).predict(OH_BC_q3_test)\n",
    "    OHEaccur_q3.append(accuracy_score(y_test, y_pred))"
   ]
  },
  {
   "cell_type": "code",
   "execution_count": null,
   "id": "56961a42",
   "metadata": {},
   "outputs": [],
   "source": [
    "display(Markdown(f'After splitting with BERNOULLI NAIVE BAYES classifier the accuracy of using ONEHOT ENCODER encoding over `{trials}` trials is {(np.mean(OHEaccur_q3))*100:.2f}%'))"
   ]
  },
  {
   "cell_type": "code",
   "execution_count": null,
   "id": "f2667af2",
   "metadata": {},
   "outputs": [],
   "source": [
    "# OrdinalEncoder\n",
    "\n",
    "OEaccur_q3 = []\n",
    "catNB = CategoricalNB(fit_prior=True, alpha=0.0001)\n",
    "X_q3_2 = breast_cancer.astype(str)\n",
    "\n",
    "\n",
    "for i in range(trials):\n",
    "    y_q3 = y_q1\n",
    "    X_train, X_test, y_train, y_test = train_test_split(X_q3_2, y_q3, test_size=0.5, random_state=None)\n",
    "\n",
    "    oe_q3_train = OrdinalEncoder(categories=guv(X_q3))\n",
    "\n",
    "    OE_BC_q3_train = oe_q3_train.fit_transform(X_train)\n",
    "    \n",
    "    OE_BC_q3_test = oe_q3_train.transform(X_test)\n",
    "    \n",
    "    X_OE_q3 = OE_BC_q3_train\n",
    "    \n",
    "    try:\n",
    "        y_pred = catNB.fit(OE_BC_q3_train, y_train).predict(OE_BC_q3_test)\n",
    "        OEaccur_q3.append(accuracy_score(y_test, y_pred))\n",
    "    except:\n",
    "        continue"
   ]
  },
  {
   "cell_type": "code",
   "execution_count": null,
   "id": "520773ea",
   "metadata": {},
   "outputs": [],
   "source": [
    "display(Markdown(f'After splitting with CATEGORICAL NAIVE BAYES classifier the accuracy of using ORDINAL ENCODER encoding over `{trials}` trials is {(np.mean(OEaccur_q3))*100:.2f}%'))"
   ]
  },
  {
   "cell_type": "code",
   "execution_count": null,
   "id": "3c2c7bc3",
   "metadata": {},
   "outputs": [],
   "source": [
    "# CatBoost Encoder\n",
    "\n",
    "gnb_q3 = GaussianNB()\n",
    "accur_q3_catb = []\n",
    "for i in range(trials):\n",
    "    X_train, X_test, y_train, y_test = train_test_split(X_q2, y_q2, test_size=0.5)\n",
    "    cbe = ce.cat_boost.CatBoostEncoder(cols = X_q2.columns)\n",
    "    X2_cbe_train = cbe.fit_transform(X_train,y_train)\n",
    "    X2_cbe_test = cbe.fit_transform(X_test,y_test)\n",
    "    y_dash = gnb_q3.fit(X2_cbe_train, y_train).predict(X2_cbe_test)\n",
    "    accur_q3_catb.append(accuracy_score(y_test, y_dash))"
   ]
  },
  {
   "cell_type": "code",
   "execution_count": null,
   "id": "2ac0ac28",
   "metadata": {},
   "outputs": [],
   "source": [
    "display(Markdown(f'After splitting with GAUSSIAN NAIVE BAYES classifier the accuracy of using CATBOOST encoding over `{trials}` trials is {(np.mean(accur_q3_catb))*100:.2f}%'))"
   ]
  },
  {
   "cell_type": "markdown",
   "id": "5f2df705",
   "metadata": {},
   "source": [
    "## TASK 4\n"
   ]
  },
  {
   "cell_type": "code",
   "execution_count": null,
   "id": "37c87605",
   "metadata": {},
   "outputs": [],
   "source": [
    "x_1 = [np.mean(OHEaccur_q1), np.mean(OEaccur_q1)]\n",
    "x_2 = [np.mean(OHEaccur_q3), np.mean(OEaccur_q3)]\n",
    "bar_1 = ['OneHot', 'Ordinal']\n",
    "bar_2 = ['OneHot','Ordinal']\n",
    "\n",
    "fig, ax = plt.subplots(figsize =(14, 10))\n",
    "encoders = ['OneHot','Ordial','CatBoost']\n",
    "\n",
    "before = [np.mean(OHEaccur_q1), np.mean(OEaccur_q1), np.mean(accur_q2)]\n",
    "after = [np.mean(OHEaccur_q3), np.mean(OEaccur_q3), np.mean(accur_q3_catb)]\n",
    "\n",
    "x_axis = np.arange(len(encoders))\n",
    "plt.bar(x_axis -0.2, before, width=0.4, label = 'Before')\n",
    "plt.bar(x_axis +0.2, after, width=0.4, label = 'After')\n",
    "\n",
    "\n",
    "plt.xticks(x_axis, encoders)\n",
    "for bars in ax.containers:\n",
    "    ax.bar_label(bars)\n",
    "    \n",
    "plt.ylabel('Accuracy')\n",
    "plt.title(\"Encoding Before/After Train-Test Split\")\n",
    "plt.legend()"
   ]
  },
  {
   "cell_type": "markdown",
   "id": "337780ba",
   "metadata": {},
   "source": [
    "# Conclusions\n",
    "In particular, the ONEHOT and ORDINAL encoders do not have much difference between before and after division this is because they encode data independently of each data point.\n",
    "\n",
    "Whereas the CAT BOOST encoder, on the other hand, has a different operation, specifically it encodes the data based on the frequency of the features. \n",
    "From the graph you can see that initially there is a higher accuracy because the encoder has many more data points than after the split.\n"
   ]
  }
 ],
 "metadata": {
  "kernelspec": {
   "display_name": "Python 3 (ipykernel)",
   "language": "python",
   "name": "python3"
  },
  "language_info": {
   "codemirror_mode": {
    "name": "ipython",
    "version": 3
   },
   "file_extension": ".py",
   "mimetype": "text/x-python",
   "name": "python",
   "nbconvert_exporter": "python",
   "pygments_lexer": "ipython3",
   "version": "3.9.12"
  }
 },
 "nbformat": 4,
 "nbformat_minor": 5
}
